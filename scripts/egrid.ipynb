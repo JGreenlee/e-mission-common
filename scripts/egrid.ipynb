{
 "cells": [
  {
   "cell_type": "markdown",
   "metadata": {},
   "source": [
    "## eGRID script to get localized carbon intensity of the grid\n",
    "\n",
    "The eGRID database provides detailed information of the carbon intensity of electricity generation in the United States. Since 2018, they have released it every January, with the latest data being from 2 years prior. So currently, in July 2024, the latest eGRID data is from 2022 and was released in January 2024. This script should be re-run each year to incorporate the latest data. \n",
    "\n",
    ">  Interactive tool: https://www.epa.gov/egrid/power-profiler"
   ]
  },
  {
   "cell_type": "code",
   "execution_count": 1,
   "metadata": {},
   "outputs": [],
   "source": [
    "# change these values when a new dataset is released\n",
    "\n",
    "latest_released_year = 2022\n",
    "\n",
    "# \"Historical Zip Codes\" dataset URL\n",
    "# linked from https://www.epa.gov/energy/power-profiler, \"Historical Zip Codes (XLSX)\"\n",
    "historical_zips_url = 'https://www.epa.gov/system/files/documents/2023-05/Power%20Profiler%20Historical%20Zip%20Codes.xlsx'\n",
    "\n",
    "# eGRID dataset URLs by year\n",
    "# linked from https://www.epa.gov/egrid/download-data and https://www.epa.gov/egrid/historical-egrid-data\n",
    "egrid_urls = {\n",
    "  2018: 'https://www.epa.gov/sites/default/files/2020-03/egrid2018_data_v2.xlsx',\n",
    "  2019: 'https://www.epa.gov/sites/default/files/2021-02/egrid2019_data.xlsx',\n",
    "  2020: 'https://www.epa.gov/system/files/documents/2022-09/eGRID2020_Data_v2.xlsx',\n",
    "  2021: 'https://www.epa.gov/system/files/documents/2023-01/eGRID2021_data.xlsx',\n",
    "  2022: 'https://www.epa.gov/system/files/documents/2024-01/egrid2022_data.xlsx',\n",
    "}"
   ]
  },
  {
   "cell_type": "code",
   "execution_count": 2,
   "metadata": {},
   "outputs": [],
   "source": [
    "# imports\n",
    "import pandas as pd\n",
    "import json\n",
    "\n",
    "# since 2018, the dataset is released annually (before that it was inconsistent)\n",
    "# so we can include all years from 2018 to the latest released year, inclusive\n",
    "years = range(2018, latest_released_year + 1)\n",
    "\n",
    "# dictionary to store the output\n",
    "output = {}"
   ]
  },
  {
   "cell_type": "markdown",
   "metadata": {},
   "source": [
    "The eGRID has data by state or by 27 eGRID regions.\n",
    "\n",
    "> The 27 eGRID subregions in the US are defined by EPA using data from the Energy Information Administration (EIA) and the North American Electric Reliability Corporation (NERC). The subregions are defined to limit the amount of imports and exports across regions in order to best represent the electricity used in each of the subregions. More information can be found in section 3.4.2 of the eGRID Technical Support Document.\n",
    "\n",
    "Although it might be easier to use state-level data, the eGRID regions are more accurate. We will need to use ZIP codes to get the eGRID region for each location. EPA has a ZIP code to eGRID region mapping spreadsheet. Let's include this in our output file.\n",
    "\n",
    "The ZIP code to eGRID region mapping could change, so we should make sure to update this URL when new eGRID data is released."
   ]
  },
  {
   "cell_type": "code",
   "execution_count": 3,
   "metadata": {},
   "outputs": [],
   "source": [
    "historical_zips_df = pd.read_excel(historical_zips_url, 'Combined', dtype=str)\n",
    "for y in years:\n",
    "  output[y] = {\n",
    "    'regions_zips': historical_zips_df.groupby(y)['ZIP (character)'].apply(list).to_dict()\n",
    "  }"
   ]
  },
  {
   "cell_type": "markdown",
   "metadata": {},
   "source": [
    "Now let's include the carbon intensity for each region, also by year.\n",
    "The field we will be using for carbon intensity is SRC2ERTA, which is described as \"eGRID subregion annual CO2 equivalent total output emission rate\" and is in units of kg CO2 per MWh."
   ]
  },
  {
   "cell_type": "code",
   "execution_count": 4,
   "metadata": {},
   "outputs": [],
   "source": [
    "for year, url in egrid_urls.items():\n",
    "  egrid_df = pd.read_excel(url, 'SRL' + str(year)[-2:], skiprows=[0])\n",
    "  output[year]['regions_src2erta'] = egrid_df[['SUBRGN', 'SRC2ERTA']].set_index('SUBRGN')['SRC2ERTA'].to_dict()"
   ]
  },
  {
   "cell_type": "markdown",
   "metadata": {},
   "source": [
    "Dump `output` to a file called `egrid_carbon_by_year.py`"
   ]
  },
  {
   "cell_type": "code",
   "execution_count": 5,
   "metadata": {},
   "outputs": [],
   "source": [
    "with open('../src/emcommon/metrics/footprint/egrid_carbon_by_year.py', 'w') as f:\n",
    "  f.write(\"egrid_carbon_by_year = \" + json.dumps(output))"
   ]
  },
  {
   "cell_type": "code",
   "execution_count": 6,
   "metadata": {},
   "outputs": [
    {
     "ename": "FileNotFoundError",
     "evalue": "[Errno 2] No such file or directory: 'egrid_carbon_by_year.json'",
     "output_type": "error",
     "traceback": [
      "\u001b[0;31m---------------------------------------------------------------------------\u001b[0m",
      "\u001b[0;31mFileNotFoundError\u001b[0m                         Traceback (most recent call last)",
      "Cell \u001b[0;32mIn[6], line 18\u001b[0m\n\u001b[1;32m     15\u001b[0m     \u001b[38;5;28;01mexcept\u001b[39;00m \u001b[38;5;167;01mKeyError\u001b[39;00m:\n\u001b[1;32m     16\u001b[0m       \u001b[38;5;28;01mreturn\u001b[39;00m \u001b[38;5;28;01mNone\u001b[39;00m\n\u001b[0;32m---> 18\u001b[0m \u001b[38;5;28mprint\u001b[39m(\u001b[43mget_egrid_carbon_intensity\u001b[49m\u001b[43m(\u001b[49m\u001b[38;5;241;43m2022\u001b[39;49m\u001b[43m,\u001b[49m\u001b[43m \u001b[49m\u001b[38;5;124;43m\"\u001b[39;49m\u001b[38;5;124;43m45221\u001b[39;49m\u001b[38;5;124;43m\"\u001b[39;49m\u001b[43m)\u001b[49m)\n",
      "Cell \u001b[0;32mIn[6], line 9\u001b[0m, in \u001b[0;36mget_egrid_carbon_intensity\u001b[0;34m(year, zip)\u001b[0m\n\u001b[1;32m      2\u001b[0m \u001b[38;5;250m\u001b[39m\u001b[38;5;124;03m\"\"\"\u001b[39;00m\n\u001b[1;32m      3\u001b[0m \u001b[38;5;124;03mReturns the estimated carbon intensity of the electricity grid in the given zip code for the given year.\u001b[39;00m\n\u001b[1;32m      4\u001b[0m \u001b[38;5;124;03m(units in kg CO2e per MWh)\u001b[39;00m\n\u001b[1;32m      5\u001b[0m \u001b[38;5;124;03m:param year: The year to get the data for, e.g. 2022\u001b[39;00m\n\u001b[1;32m      6\u001b[0m \u001b[38;5;124;03m:param zip: The 5-digit zip code to get the data for; e.g. \"45221\" (Cincinnati), \"02115\" (Boston)\u001b[39;00m\n\u001b[1;32m      7\u001b[0m \u001b[38;5;124;03m\"\"\"\u001b[39;00m\n\u001b[1;32m      8\u001b[0m year \u001b[38;5;241m=\u001b[39m \u001b[38;5;28mstr\u001b[39m(year)\n\u001b[0;32m----> 9\u001b[0m \u001b[38;5;28;01mwith\u001b[39;00m \u001b[38;5;28;43mopen\u001b[39;49m\u001b[43m(\u001b[49m\u001b[38;5;124;43m'\u001b[39;49m\u001b[38;5;124;43megrid_carbon_by_year.json\u001b[39;49m\u001b[38;5;124;43m'\u001b[39;49m\u001b[43m,\u001b[49m\u001b[43m \u001b[49m\u001b[38;5;124;43m'\u001b[39;49m\u001b[38;5;124;43mr\u001b[39;49m\u001b[38;5;124;43m'\u001b[39;49m\u001b[43m)\u001b[49m \u001b[38;5;28;01mas\u001b[39;00m f:\n\u001b[1;32m     10\u001b[0m   data \u001b[38;5;241m=\u001b[39m json\u001b[38;5;241m.\u001b[39mload(f)\n\u001b[1;32m     11\u001b[0m   \u001b[38;5;28;01mtry\u001b[39;00m:\n\u001b[1;32m     12\u001b[0m     \u001b[38;5;66;03m# find which region the zip code is in\u001b[39;00m\n",
      "File \u001b[0;32m~/Library/Python/3.12/lib/python/site-packages/IPython/core/interactiveshell.py:324\u001b[0m, in \u001b[0;36m_modified_open\u001b[0;34m(file, *args, **kwargs)\u001b[0m\n\u001b[1;32m    317\u001b[0m \u001b[38;5;28;01mif\u001b[39;00m file \u001b[38;5;129;01min\u001b[39;00m {\u001b[38;5;241m0\u001b[39m, \u001b[38;5;241m1\u001b[39m, \u001b[38;5;241m2\u001b[39m}:\n\u001b[1;32m    318\u001b[0m     \u001b[38;5;28;01mraise\u001b[39;00m \u001b[38;5;167;01mValueError\u001b[39;00m(\n\u001b[1;32m    319\u001b[0m         \u001b[38;5;124mf\u001b[39m\u001b[38;5;124m\"\u001b[39m\u001b[38;5;124mIPython won\u001b[39m\u001b[38;5;124m'\u001b[39m\u001b[38;5;124mt let you open fd=\u001b[39m\u001b[38;5;132;01m{\u001b[39;00mfile\u001b[38;5;132;01m}\u001b[39;00m\u001b[38;5;124m by default \u001b[39m\u001b[38;5;124m\"\u001b[39m\n\u001b[1;32m    320\u001b[0m         \u001b[38;5;124m\"\u001b[39m\u001b[38;5;124mas it is likely to crash IPython. If you know what you are doing, \u001b[39m\u001b[38;5;124m\"\u001b[39m\n\u001b[1;32m    321\u001b[0m         \u001b[38;5;124m\"\u001b[39m\u001b[38;5;124myou can use builtins\u001b[39m\u001b[38;5;124m'\u001b[39m\u001b[38;5;124m open.\u001b[39m\u001b[38;5;124m\"\u001b[39m\n\u001b[1;32m    322\u001b[0m     )\n\u001b[0;32m--> 324\u001b[0m \u001b[38;5;28;01mreturn\u001b[39;00m \u001b[43mio_open\u001b[49m\u001b[43m(\u001b[49m\u001b[43mfile\u001b[49m\u001b[43m,\u001b[49m\u001b[43m \u001b[49m\u001b[38;5;241;43m*\u001b[39;49m\u001b[43margs\u001b[49m\u001b[43m,\u001b[49m\u001b[43m \u001b[49m\u001b[38;5;241;43m*\u001b[39;49m\u001b[38;5;241;43m*\u001b[39;49m\u001b[43mkwargs\u001b[49m\u001b[43m)\u001b[49m\n",
      "\u001b[0;31mFileNotFoundError\u001b[0m: [Errno 2] No such file or directory: 'egrid_carbon_by_year.json'"
     ]
    }
   ],
   "source": [
    "def get_egrid_carbon_intensity(year: int, zip: str) -> float:\n",
    "  \"\"\"\n",
    "  Returns the estimated carbon intensity of the electricity grid in the given zip code for the given year.\n",
    "  (units in kg CO2e per MWh)\n",
    "  :param year: The year to get the data for, e.g. 2022\n",
    "  :param zip: The 5-digit zip code to get the data for; e.g. \"45221\" (Cincinnati), \"02115\" (Boston)\n",
    "  \"\"\"\n",
    "  year = str(year)\n",
    "  with open('egrid_carbon_by_year.json', 'r') as f:\n",
    "    data = json.load(f)\n",
    "    try:\n",
    "      # find which region the zip code is in\n",
    "      region = [k for k in data[year]['regions_zips'] if zip in data[year]['regions_zips'][k]][0]\n",
    "      return data[year]['regions_src2erta'][region]\n",
    "    except KeyError:\n",
    "      return None\n",
    "\n",
    "print(get_egrid_carbon_intensity(2022, \"45221\"))"
   ]
  },
  {
   "cell_type": "code",
   "execution_count": null,
   "metadata": {},
   "outputs": [],
   "source": [
    "from ....emcommon import logger as Logger\n",
    "Logger.log_debug(get_egrid_carbon_intensity(2022, \"45221\"))"
   ]
  }
 ],
 "metadata": {
  "kernelspec": {
   "display_name": "Python 3",
   "language": "python",
   "name": "python3"
  },
  "language_info": {
   "codemirror_mode": {
    "name": "ipython",
    "version": 3
   },
   "file_extension": ".py",
   "mimetype": "text/x-python",
   "name": "python",
   "nbconvert_exporter": "python",
   "pygments_lexer": "ipython3",
   "version": "3.12.4"
  }
 },
 "nbformat": 4,
 "nbformat_minor": 2
}
