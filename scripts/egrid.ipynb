{
 "cells": [
  {
   "cell_type": "markdown",
   "metadata": {},
   "source": [
    "## eGRID script to get localized carbon intensity of the grid\n",
    "\n",
    "The eGRID database provides detailed information of the carbon intensity of electricity generation in the United States. Since 2018, they have released it every January, with the latest data being from 2 years prior. So currently, in July 2024, the latest eGRID data is from 2022 and was released in January 2024. This script should be re-run each year to incorporate the latest data. \n",
    "\n",
    ">  Interactive tool: https://www.epa.gov/egrid/power-profiler"
   ]
  },
  {
   "cell_type": "code",
   "execution_count": 6,
   "metadata": {},
   "outputs": [],
   "source": [
    "# change these values when a new dataset is released\n",
    "\n",
    "latest_released_year = 2022\n",
    "\n",
    "# \"Historical Zip Codes\" dataset URL\n",
    "# linked from https://www.epa.gov/energy/power-profiler, \"Historical Zip Codes (XLSX)\"\n",
    "historical_zips_url = 'https://www.epa.gov/system/files/documents/2023-05/Power%20Profiler%20Historical%20Zip%20Codes.xlsx'\n",
    "\n",
    "# eGRID dataset URLs by year\n",
    "# linked from https://www.epa.gov/egrid/download-data and https://www.epa.gov/egrid/historical-egrid-data\n",
    "egrid_urls = {\n",
    "  2018: 'https://www.epa.gov/sites/default/files/2020-03/egrid2018_data_v2.xlsx',\n",
    "  2019: 'https://www.epa.gov/sites/default/files/2021-02/egrid2019_data.xlsx',\n",
    "  2020: 'https://www.epa.gov/system/files/documents/2022-09/eGRID2020_Data_v2.xlsx',\n",
    "  2021: 'https://www.epa.gov/system/files/documents/2023-01/eGRID2021_data.xlsx',\n",
    "  2022: 'https://www.epa.gov/system/files/documents/2024-01/egrid2022_data.xlsx',\n",
    "}"
   ]
  },
  {
   "cell_type": "code",
   "execution_count": 7,
   "metadata": {},
   "outputs": [],
   "source": [
    "# imports\n",
    "import pandas as pd\n",
    "import json\n",
    "\n",
    "# since 2018, the dataset is released annually (before that it was inconsistent)\n",
    "# so we can include all years from 2018 to the latest released year, inclusive\n",
    "years = range(2018, latest_released_year + 1)\n",
    "\n",
    "# dictionary to store the output\n",
    "output = {}"
   ]
  },
  {
   "cell_type": "markdown",
   "metadata": {},
   "source": [
    "The eGRID has data by state or by 27 eGRID regions.\n",
    "\n",
    "> The 27 eGRID subregions in the US are defined by EPA using data from the Energy Information Administration (EIA) and the North American Electric Reliability Corporation (NERC). The subregions are defined to limit the amount of imports and exports across regions in order to best represent the electricity used in each of the subregions. More information can be found in section 3.4.2 of the eGRID Technical Support Document.\n",
    "\n",
    "Although it might be easier to use state-level data, the eGRID regions are more accurate. We will need to use ZIP codes to get the eGRID region for each location. EPA has a ZIP code to eGRID region mapping spreadsheet. Let's include this in our output file.\n",
    "\n",
    "The ZIP code to eGRID region mapping could change, so we should make sure to update this URL when new eGRID data is released."
   ]
  },
  {
   "cell_type": "code",
   "execution_count": 8,
   "metadata": {},
   "outputs": [],
   "source": [
    "historical_zips_df = pd.read_excel(historical_zips_url, 'Combined', dtype=str)\n",
    "for y in years:\n",
    "  output[y] = {\n",
    "    'regions_zips': historical_zips_df.groupby(y)['ZIP (character)'].apply(list).to_dict()\n",
    "  }"
   ]
  },
  {
   "cell_type": "markdown",
   "metadata": {},
   "source": [
    "Now let's include the carbon intensity for each region, also by year.\n",
    "The field we will be using for carbon intensity is \"Annual CO2 equivalent total output emission rate (lb/MWh)\". For the national average, the column is called `USC2ERTA`, and for the per-region values it is called `SRC2ERTA`. We'll convert this to kg CO2 per MWh."
   ]
  },
  {
   "cell_type": "code",
   "execution_count": null,
   "metadata": {},
   "outputs": [],
   "source": [
    "LBS_PER_KG = 0.45359237\n",
    "\n",
    "for year, url in egrid_urls.items():\n",
    "  # national average in the \"USxx\" sheet; e.g. \"US22\"\n",
    "  # it only has one row\n",
    "  national_df = pd.read_excel(url, 'US' + str(year)[-2:], skiprows=[0])\n",
    "  output[year]['national_kg_per_mwh'] = national_df[['USC2ERTA']].iloc[0, 0] * LBS_PER_KG\n",
    "\n",
    "  # per-region averages in the \"SRLxx\" sheet; e.g. \"SRL22\"\n",
    "  regions_df = pd.read_excel(url, 'SRL' + str(year)[-2:], skiprows=[0])\n",
    "  output[year]['regions_kg_per_mwh'] = regions_df[['SUBRGN', 'SRC2ERTA']] \\\n",
    "    .set_index('SUBRGN')['SRC2ERTA'] \\\n",
    "    .apply(lambda lbs: lbs * LBS_PER_KG) \\\n",
    "    .to_dict()"
   ]
  },
  {
   "cell_type": "markdown",
   "metadata": {},
   "source": [
    "Dump `output` to a file called `egrid_carbon_by_year.py`"
   ]
  },
  {
   "cell_type": "code",
   "execution_count": null,
   "metadata": {},
   "outputs": [],
   "source": [
    "with open('../src/emcommon/metrics/footprint/egrid_carbon_by_year.py', 'w') as f:\n",
    "  f.write(\"egrid_data = \" + json.dumps(output))"
   ]
  }
 ],
 "metadata": {
  "kernelspec": {
   "display_name": "Python 3",
   "language": "python",
   "name": "python3"
  },
  "language_info": {
   "codemirror_mode": {
    "name": "ipython",
    "version": 3
   },
   "file_extension": ".py",
   "mimetype": "text/x-python",
   "name": "python",
   "nbconvert_exporter": "python",
   "pygments_lexer": "ipython3",
   "version": "3.12.4"
  }
 },
 "nbformat": 4,
 "nbformat_minor": 2
}
