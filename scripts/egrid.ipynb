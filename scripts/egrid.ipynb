{
 "cells": [
  {
   "cell_type": "markdown",
   "metadata": {},
   "source": [
    "## eGRID script to get localized carbon intensity of the grid\n",
    "\n",
    "The eGRID database provides detailed information of the carbon intensity of electricity generation in the United States. Since 2018, they have released it every January, with the latest data being from 2 years prior. So currently, in July 2024, the latest eGRID data is from 2022 and was released in January 2024. This script should be re-run each year to incorporate the latest data. \n",
    "\n",
    ">  Interactive tool: https://www.epa.gov/egrid/power-profiler"
   ]
  },
  {
   "cell_type": "code",
   "execution_count": 18,
   "metadata": {},
   "outputs": [],
   "source": [
    "# change these values when a new dataset is released\n",
    "\n",
    "latest_released_year = 2022\n",
    "\n",
    "# since 2018, eGRID has been released yearly (before this, it was inconsistent)\n",
    "# eGRID Data files linked from https://www.epa.gov/egrid/download-data and https://www.epa.gov/egrid/historical-egrid-data\n",
    "# eGRID Subregions files linked from https://www.epa.gov/egrid/egrid-mapping-files\n",
    "egrid_urls = {\n",
    "  2018: {\n",
    "    \"egrid_xlsx\": 'https://www.epa.gov/sites/default/files/2020-03/egrid2018_data_v2.xlsx',\n",
    "    \"subregions_kmz\": 'https://www.epa.gov/sites/default/files/2020-03/egrid2018_subregions.kmz',\n",
    "  },\n",
    "  2019: {\n",
    "    \"egrid_xlsx\": 'https://www.epa.gov/sites/default/files/2021-02/egrid2019_data.xlsx',\n",
    "    \"subregions_kmz\": 'https://www.epa.gov/sites/default/files/2021-02/egrid2019_subregions.kmz',\n",
    "  },\n",
    "  2020: {\n",
    "    \"egrid_xlsx\": 'https://www.epa.gov/system/files/documents/2022-09/eGRID2020_Data_v2.xlsx',\n",
    "    \"subregions_kmz\": 'https://www.epa.gov/system/files/other-files/2022-01/egrid2020_subregions.kmz',\n",
    "  },\n",
    "  2021: {\n",
    "    \"egrid_xlsx\": 'https://www.epa.gov/system/files/documents/2023-01/eGRID2021_data.xlsx',\n",
    "    \"subregions_kml\": 'https://www.epa.gov/system/files/other-files/2023-05/eGRID2021_subregions.kml',\n",
    "  },\n",
    "  2022: {\n",
    "    \"egrid_xlsx\": 'https://www.epa.gov/system/files/documents/2024-01/egrid2022_data.xlsx',\n",
    "    \"subregions_kmz\": 'https://www.epa.gov/system/files/other-files/2024-05/egrid2022_subregions.kmz',\n",
    "  },\n",
    "}"
   ]
  },
  {
   "cell_type": "code",
   "execution_count": 19,
   "metadata": {},
   "outputs": [],
   "source": [
    "# imports\n",
    "\n",
    "import os\n",
    "import json\n",
    "import requests\n",
    "from zipfile import ZipFile\n",
    "from io import BytesIO\n",
    "\n",
    "from script_utils import is_up_to_date, load_dataframe\n"
   ]
  },
  {
   "cell_type": "markdown",
   "metadata": {},
   "source": [
    "The eGRID has data by state or by 27 eGRID regions.\n",
    "\n",
    "> The 27 eGRID subregions in the US are defined by EPA using data from the Energy Information Administration (EIA) and the North American Electric Reliability Corporation (NERC). The subregions are defined to limit the amount of imports and exports across regions in order to best represent the electricity used in each of the subregions. More information can be found in section 3.4.2 of the eGRID Technical Support Document.\n",
    "\n",
    "Although it might be easier to use state-level data, the eGRID regions are more accurate. The eGRID regions are given per-year as shapefiles, so we will be able to perform coordinate-based lookups to get the eGRID region for a given location.\n",
    "The shapefiles are quite large, so we will simplify them to a coarser resolution to make the lookup faster. Then we will save them in GeoJSON format, easier to work with in Python & JavaScript.\n",
    "\n",
    "We will also include a 'metadata' field with 'data_source_urls' in each GeoJSON file to more easily track where the data comes from. If this script is ran again and nothing has changed, we will not need to regenerate the GeoJSON files. But if eGRID puts out a revision in the future, we can update the URL and know what needs to be updated."
   ]
  },
  {
   "cell_type": "code",
   "execution_count": 23,
   "metadata": {},
   "outputs": [
    {
     "name": "stdout",
     "output_type": "stream",
     "text": [
      "../src/emcommon/resources/egrid2018_subregions_5pct.json is up to date, skipping\n",
      "../src/emcommon/resources/egrid2019_subregions_5pct.json is up to date, skipping\n",
      "Creating ../src/emcommon/resources/egrid2020_subregions_5pct.json\n",
      "Downloading subregions for 2020...\n",
      "Simplifying geometry for 2020...\n",
      "[simplify] Repaired 2,739 intersections\n",
      "[o] Wrote tmp/out.json\n",
      "Creating ../src/emcommon/resources/egrid2021_subregions_5pct.json\n",
      "Downloading subregions for 2021...\n",
      "Simplifying geometry for 2021...\n",
      "[simplify] Repaired 1,423 intersections\n",
      "[o] Wrote tmp/out.json\n",
      "Creating ../src/emcommon/resources/egrid2022_subregions_5pct.json\n",
      "Downloading subregions for 2022...\n",
      "Simplifying geometry for 2022...\n",
      "[simplify] Repaired 2,573 intersections\n",
      "[o] Wrote tmp/out.json\n",
      "Done generating eGRID subregions simplified geojson files\n"
     ]
    }
   ],
   "source": [
    "for year in egrid_urls:\n",
    "  output_filename = f\"../src/emcommon/resources/egrid{year}_subregions_5pct.json\"\n",
    "  subregions_url = egrid_urls[year][\"subregions_kml\"] if \"subregions_kml\" in egrid_urls[year] else egrid_urls[year][\"subregions_kmz\"]\n",
    "\n",
    "  if is_up_to_date(output_filename, [subregions_url]):\n",
    "    continue\n",
    "\n",
    "  print(f\"Downloading subregions for {year}...\")\n",
    "  urls = egrid_urls[year]\n",
    "  if \"subregions_kml\" in urls:\n",
    "    r = requests.get(urls[\"subregions_kml\"])\n",
    "    os.makedirs(os.path.dirname('tmp/doc.kml'), exist_ok=True)\n",
    "    with open('tmp/doc.kml', 'wb') as f:\n",
    "      f.write(r.content)\n",
    "  elif \"subregions_kmz\" in urls:\n",
    "    r = requests.get(urls[\"subregions_kmz\"])\n",
    "    kmz = ZipFile(BytesIO(r.content))\n",
    "    kmz.extractall('tmp')\n",
    "\n",
    "  print(f\"Simplifying geometry for {year}...\")\n",
    "  ! npx mapshaper 'tmp/doc.kml' -simplify dp 5% -o precision=0.0001 'tmp/out.json'\n",
    "\n",
    "  with open('tmp/out.json') as f:\n",
    "    output = json.load(f)\n",
    "\n",
    "  ! rm -rf 'tmp'\n",
    "  \n",
    "  output['metadata'] = {\n",
    "      \"year\": year,\n",
    "      \"data_source_urls\": [subregions_url],\n",
    "  }\n",
    "  with open(output_filename, 'w') as f:\n",
    "    json.dump(output, f)\n",
    "\n",
    "print(\"Done generating eGRID subregions simplified geojson files\")"
   ]
  },
  {
   "cell_type": "markdown",
   "metadata": {},
   "source": [
    "Now let's include the carbon intensity for each region, also by year.\n",
    "The field we will be using for carbon intensity is \"Annual CO2 equivalent total output emission rate (lb/MWh)\". For the national average, the column is called `USC2ERTA`, and for the per-region values it is called `SRC2ERTA`. We'll convert this to kg CO2 per MWh."
   ]
  },
  {
   "cell_type": "code",
   "execution_count": 24,
   "metadata": {},
   "outputs": [
    {
     "name": "stdout",
     "output_type": "stream",
     "text": [
      "../src/emcommon/resources/egrid2018_intensities.json is up to date, skipping\n",
      "../src/emcommon/resources/egrid2019_intensities.json is up to date, skipping\n",
      "../src/emcommon/resources/egrid2020_intensities.json is up to date, skipping\n",
      "../src/emcommon/resources/egrid2021_intensities.json is up to date, skipping\n",
      "../src/emcommon/resources/egrid2022_intensities.json is up to date, skipping\n",
      "Done generating eGRID intensity json files\n"
     ]
    }
   ],
   "source": [
    "LBS_PER_KG = 0.45359237\n",
    "\n",
    "for year, urls in egrid_urls.items():\n",
    "  url = urls['egrid_xlsx']\n",
    "  output = {}\n",
    "  output_filename = f\"../src/emcommon/resources/egrid{year}_intensities.json\"\n",
    "\n",
    "  if is_up_to_date(output_filename, [url]):\n",
    "    continue\n",
    "\n",
    "  # national average in the \"USxx\" sheet; e.g. \"US22\"\n",
    "  # it only has one row\n",
    "  national_df = load_dataframe(urls, 'egrid', 'US' + str(year)[-2:], skiprows=[0])\n",
    "  output['national_kg_per_mwh'] = national_df[['USC2ERTA']].iloc[0, 0] * LBS_PER_KG\n",
    "\n",
    "  # per-region averages in the \"SRLxx\" sheet; e.g. \"SRL22\"\n",
    "  regions_df = load_dataframe(urls, 'egrid', 'SRL' + str(year)[-2:], skiprows=[0])\n",
    "  output['regions_kg_per_mwh'] = regions_df[['SUBRGN', 'SRC2ERTA']] \\\n",
    "    .set_index('SUBRGN')['SRC2ERTA'] \\\n",
    "    .apply(lambda lbs: lbs * LBS_PER_KG) \\\n",
    "    .to_dict()\n",
    "\n",
    "  output['metadata'] = {\n",
    "    \"year\": year,\n",
    "    \"data_source_urls\": [url],\n",
    "  }\n",
    "  with open(output_filename, 'w') as f:\n",
    "    json.dump(output, f, indent=2)\n",
    "\n",
    "print(\"Done generating eGRID intensity json files\")\n",
    "    "
   ]
  }
 ],
 "metadata": {
  "kernelspec": {
   "display_name": "Python 3",
   "language": "python",
   "name": "python3"
  },
  "language_info": {
   "codemirror_mode": {
    "name": "ipython",
    "version": 3
   },
   "file_extension": ".py",
   "mimetype": "text/x-python",
   "name": "python",
   "nbconvert_exporter": "python",
   "pygments_lexer": "ipython3",
   "version": "3.12.4"
  }
 },
 "nbformat": 4,
 "nbformat_minor": 2
}
