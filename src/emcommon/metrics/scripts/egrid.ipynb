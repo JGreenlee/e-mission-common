{
 "cells": [
  {
   "cell_type": "markdown",
   "metadata": {},
   "source": [
    "## eGRID script to get localized carbon intensity of the grid\n",
    "\n",
    "The eGRID database provides detailed information of the carbon intensity of electricity generation in the United States. Since 2018, they have released it every January, with the latest data being from 2 years prior. So currently, in July 2024, the latest eGRID data is from 2022 and was released in January 2024. This script should be re-run each year to incorporate the latest data. \n",
    "\n",
    ">  Interactive tool: https://www.epa.gov/egrid/power-profiler"
   ]
  },
  {
   "cell_type": "code",
   "execution_count": 31,
   "metadata": {},
   "outputs": [],
   "source": [
    "# change these values when a new dataset is released\n",
    "\n",
    "latest_released_year = 2022\n",
    "\n",
    "# \"Historical Zip Codes\" dataset URL\n",
    "# linked from https://www.epa.gov/energy/power-profiler, \"Historical Zip Codes (XLSX)\"\n",
    "historical_zips_url = 'https://www.epa.gov/system/files/documents/2023-05/Power%20Profiler%20Historical%20Zip%20Codes.xlsx'\n",
    "\n",
    "# eGRID dataset URLs by year\n",
    "# linked from https://www.epa.gov/egrid/download-data and https://www.epa.gov/egrid/historical-egrid-data\n",
    "egrid_urls = {\n",
    "  2018: 'https://www.epa.gov/sites/default/files/2020-03/egrid2018_data_v2.xlsx',\n",
    "  2019: 'https://www.epa.gov/sites/default/files/2021-02/egrid2019_data.xlsx',\n",
    "  2020: 'https://www.epa.gov/system/files/documents/2022-09/eGRID2020_Data_v2.xlsx',\n",
    "  2021: 'https://www.epa.gov/system/files/documents/2023-01/eGRID2021_data.xlsx',\n",
    "  2022: 'https://www.epa.gov/system/files/documents/2024-01/egrid2022_data.xlsx',\n",
    "}"
   ]
  },
  {
   "cell_type": "code",
   "execution_count": 32,
   "metadata": {},
   "outputs": [],
   "source": [
    "# imports\n",
    "import pandas as pd\n",
    "import json\n",
    "\n",
    "# since 2018, the dataset is released annually (before that it was inconsistent)\n",
    "# so we can include all years from 2018 to the latest released year, inclusive\n",
    "years = range(2018, latest_released_year + 1)\n",
    "\n",
    "# dictionary to store the output\n",
    "output = {}"
   ]
  },
  {
   "cell_type": "markdown",
   "metadata": {},
   "source": [
    "The eGRID has data by state or by 27 eGRID regions.\n",
    "\n",
    "> The 27 eGRID subregions in the US are defined by EPA using data from the Energy Information Administration (EIA) and the North American Electric Reliability Corporation (NERC). The subregions are defined to limit the amount of imports and exports across regions in order to best represent the electricity used in each of the subregions. More information can be found in section 3.4.2 of the eGRID Technical Support Document.\n",
    "\n",
    "Although it might be easier to use state-level data, the eGRID regions are more accurate. We will need to use ZIP codes to get the eGRID region for each location. EPA has a ZIP code to eGRID region mapping spreadsheet. Let's include this in our output file.\n",
    "\n",
    "The ZIP code to eGRID region mapping could change, so we should make sure to update this URL when new eGRID data is released."
   ]
  },
  {
   "cell_type": "code",
   "execution_count": 33,
   "metadata": {},
   "outputs": [],
   "source": [
    "historical_zips_df = pd.read_excel(historical_zips_url, 'Combined', dtype=str)\n",
    "for y in years:\n",
    "  output[y] = {\n",
    "    'zip_regions': historical_zips_df[['ZIP (character)', y]].set_index('ZIP (character)')[y].to_dict()\n",
    "  }"
   ]
  },
  {
   "cell_type": "markdown",
   "metadata": {},
   "source": [
    "Now let's include the carbon intensity for each region, also by year.\n",
    "The field we will be using for carbon intensity is SRC2ERTA, which is described as \"eGRID subregion annual CO2 equivalent total output emission rate\" and is in units of kg CO2 per MWh."
   ]
  },
  {
   "cell_type": "code",
   "execution_count": 34,
   "metadata": {},
   "outputs": [],
   "source": [
    "for year, url in egrid_urls.items():\n",
    "  egrid_df = pd.read_excel(url, 'SRL' + str(year)[-2:], skiprows=[0])\n",
    "  output[year]['regions_src2erta'] = egrid_df[['SUBRGN', 'SRC2ERTA']].set_index('SUBRGN')['SRC2ERTA'].to_dict()"
   ]
  },
  {
   "cell_type": "markdown",
   "metadata": {},
   "source": [
    "Dump `output` to a file called `egrid_carbon_by_year.json`"
   ]
  },
  {
   "cell_type": "code",
   "execution_count": 35,
   "metadata": {},
   "outputs": [],
   "source": [
    "json.dump(output, open('egrid_carbon_by_year.json', 'w'), indent=2)"
   ]
  },
  {
   "cell_type": "code",
   "execution_count": 36,
   "metadata": {},
   "outputs": [
    {
     "name": "stdout",
     "output_type": "stream",
     "text": [
      "1005.904\n"
     ]
    }
   ],
   "source": [
    "def get_egrid_carbon_intensity(year: int, zip: str) -> float:\n",
    "  \"\"\"\n",
    "  Returns the estimated carbon intensity of the electricity grid in the given zip code for the given year.\n",
    "  (units in kg CO2e per MWh)\n",
    "  :param year: The year to get the data for, e.g. 2022\n",
    "  :param zip: The 5-digit zip code to get the data for; e.g. \"45221\" (Cincinnati), \"02115\" (Boston)\n",
    "  \"\"\"\n",
    "  year = str(year)\n",
    "  with open('egrid_carbon_by_year.json', 'r') as f:\n",
    "    data = json.load(f)\n",
    "    try:\n",
    "      region = data[year]['zip_regions'][zip]\n",
    "      return data[year]['regions_src2erta'][region]\n",
    "    except KeyError:\n",
    "      return None\n",
    "\n",
    "print(get_egrid_carbon_intensity(2022, \"45221\"))"
   ]
  }
 ],
 "metadata": {
  "kernelspec": {
   "display_name": "Python 3",
   "language": "python",
   "name": "python3"
  },
  "language_info": {
   "codemirror_mode": {
    "name": "ipython",
    "version": 3
   },
   "file_extension": ".py",
   "mimetype": "text/x-python",
   "name": "python",
   "nbconvert_exporter": "python",
   "pygments_lexer": "ipython3",
   "version": "3.12.4"
  }
 },
 "nbformat": 4,
 "nbformat_minor": 2
}
